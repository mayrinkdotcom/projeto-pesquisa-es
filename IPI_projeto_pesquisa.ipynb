{
  "nbformat": 4,
  "nbformat_minor": 0,
  "metadata": {
    "colab": {
      "name": "IPI-projeto-pesquisa.ipynb",
      "provenance": [],
      "mount_file_id": "10-Skht6Cfvyib2ovB3HvXXgLYZ7OSErQ",
      "authorship_tag": "ABX9TyNfvti82lTqD2sqOtGm90Xq",
      "include_colab_link": true
    },
    "kernelspec": {
      "display_name": "Python 3",
      "name": "python3"
    },
    "language_info": {
      "name": "python"
    }
  },
  "cells": [
    {
      "cell_type": "markdown",
      "metadata": {
        "id": "view-in-github",
        "colab_type": "text"
      },
      "source": [
        "<a href=\"https://colab.research.google.com/github/mayrinkdotcom/projeto-pesquisa-es/blob/main/IPI_projeto_pesquisa.ipynb\" target=\"_parent\"><img src=\"https://colab.research.google.com/assets/colab-badge.svg\" alt=\"Open In Colab\"/></a>"
      ]
    },
    {
      "cell_type": "markdown",
      "metadata": {
        "id": "4cnW4_V-gB0c"
      },
      "source": [
        "# Data Analysis"
      ]
    },
    {
      "cell_type": "code",
      "metadata": {
        "id": "Io6LOli_fpxa"
      },
      "source": [
        "import pandas as pd\n",
        "import json\n",
        "import ast\n",
        "\n",
        "df_repositories = pd.read_csv('/content/drive/MyDrive/Colab Notebooks/IPI-projeto-pesquisa/repositories.csv')\n",
        "df_repositories.head()"
      ],
      "execution_count": null,
      "outputs": []
    },
    {
      "cell_type": "markdown",
      "metadata": {
        "id": "jUEkrnT5MOiA"
      },
      "source": [
        "### Checking if the repos are using Git Flow"
      ]
    },
    {
      "cell_type": "code",
      "metadata": {
        "colab": {
          "base_uri": "https://localhost:8080/"
        },
        "id": "uqhoxGGfhHrM",
        "outputId": "a34f7831-661e-4c67-b7bd-e99e18db92e8"
      },
      "source": [
        "repos_with_gitflow = 0\n",
        "GITFLOW_BRANCHES = ['main', 'master', 'dev', 'develop', 'feature', 'bugfix', 'support', 'hotfix', 'release']\n",
        "for repo_branches in df_repositories['branches'] :\n",
        "  branches_array = ast.literal_eval(repo_branches)\n",
        "  gitflow_similarity = 0\n",
        "\n",
        "  for branches in branches_array :\n",
        "    if type(branches) == str:\n",
        "      break\n",
        "    branch_name = branches.get('name')\n",
        "    \n",
        "    if branch_name in GITFLOW_BRANCHES :\n",
        "      gitflow_similarity += 1\n",
        "  \n",
        "  if gitflow_similarity > 1 :\n",
        "    repos_with_gitflow += 1\n",
        "    print('gitflow similarity: ' + str(gitflow_similarity) + '\\n')\n",
        "\n",
        "print('repos with gitflow: ' + str(repos_with_gitflow))\n"
      ],
      "execution_count": null,
      "outputs": [
        {
          "output_type": "stream",
          "text": [
            "gitflow similarity: 2\n",
            "\n",
            "gitflow similarity: 2\n",
            "\n",
            "gitflow similarity: 2\n",
            "\n",
            "gitflow similarity: 2\n",
            "\n",
            "gitflow similarity: 3\n",
            "\n",
            "gitflow similarity: 3\n",
            "\n",
            "gitflow similarity: 2\n",
            "\n",
            "gitflow similarity: 2\n",
            "\n",
            "gitflow similarity: 2\n",
            "\n",
            "gitflow similarity: 2\n",
            "\n",
            "gitflow similarity: 2\n",
            "\n",
            "gitflow similarity: 2\n",
            "\n",
            "gitflow similarity: 2\n",
            "\n",
            "gitflow similarity: 2\n",
            "\n",
            "gitflow similarity: 2\n",
            "\n",
            "gitflow similarity: 2\n",
            "\n",
            "gitflow similarity: 2\n",
            "\n",
            "gitflow similarity: 2\n",
            "\n",
            "repos with gitflow: 18\n"
          ],
          "name": "stdout"
        }
      ]
    }
  ]
}